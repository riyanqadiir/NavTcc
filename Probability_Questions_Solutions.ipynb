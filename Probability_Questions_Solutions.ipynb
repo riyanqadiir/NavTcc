{
 "cells": [
  {
   "cell_type": "markdown",
   "id": "0931499e",
   "metadata": {},
   "source": [
    "### Q1"
   ]
  },
  {
   "cell_type": "code",
   "execution_count": null,
   "id": "98eb099a",
   "metadata": {},
   "outputs": [],
   "source": [
    "# Solution for Q1\n",
    "print('Answer:', '''P(both) = 50 / 200 = 0.25''')"
   ]
  },
  {
   "cell_type": "markdown",
   "id": "4642da41",
   "metadata": {},
   "source": [
    "### Q2"
   ]
  },
  {
   "cell_type": "code",
   "execution_count": null,
   "id": "1dee42ca",
   "metadata": {},
   "outputs": [],
   "source": [
    "# Solution for Q2\n",
    "print('Answer:', '''Using Bayes' Theorem:\n",
    "P(B | Defective) = (P(Def | B) * P(B)) / [(P(Def | A) * P(A)) + (P(Def | B) * P(B))]  \n",
    "= (0.10 * 0.4) / [(0.05 * 0.6) + (0.10 * 0.4)] = 0.04 / (0.03 + 0.04) = 0.571''')"
   ]
  },
  {
   "cell_type": "markdown",
   "id": "55413070",
   "metadata": {},
   "source": [
    "### Q3"
   ]
  },
  {
   "cell_type": "code",
   "execution_count": null,
   "id": "3e67354c",
   "metadata": {},
   "outputs": [],
   "source": [
    "# Solution for Q3\n",
    "print('Answer:', '''P(orange) = 4 / (6 + 4) = 0.4''')"
   ]
  },
  {
   "cell_type": "markdown",
   "id": "f7c3cf68",
   "metadata": {},
   "source": [
    "### Q4"
   ]
  },
  {
   "cell_type": "code",
   "execution_count": null,
   "id": "de0faf00",
   "metadata": {},
   "outputs": [],
   "source": [
    "# Solution for Q4\n",
    "print('Answer:', '''Using Bayes' Theorem:\n",
    "P(Condition | Positive) = (0.9 * 0.01) / [(0.9 * 0.01) + (0.1 * 0.99)] = 0.009 / (0.009 + 0.099) ≈ 0.083''')"
   ]
  },
  {
   "cell_type": "markdown",
   "id": "928eef84",
   "metadata": {},
   "source": [
    "### Q5"
   ]
  },
  {
   "cell_type": "code",
   "execution_count": null,
   "id": "2e791fbe",
   "metadata": {},
   "outputs": [],
   "source": [
    "# Solution for Q5\n",
    "print('Answer:', '''P(Python or Java) = P(Python) + P(Java) - P(Both) = (180+100-50)/300 = 230/300 = 0.77''')"
   ]
  },
  {
   "cell_type": "markdown",
   "id": "3d815257",
   "metadata": {},
   "source": [
    "### Q6"
   ]
  },
  {
   "cell_type": "code",
   "execution_count": null,
   "id": "6642140d",
   "metadata": {},
   "outputs": [],
   "source": [
    "# Solution for Q6\n",
    "print('Answer:', '''P(Rain and Umbrella) = 0.6 * 0.9 = 0.54''')"
   ]
  },
  {
   "cell_type": "markdown",
   "id": "9aed2836",
   "metadata": {},
   "source": [
    "### Q7"
   ]
  },
  {
   "cell_type": "code",
   "execution_count": null,
   "id": "ae4eb96c",
   "metadata": {},
   "outputs": [],
   "source": [
    "# Solution for Q7\n",
    "print('Answer:', '''P(Studied | Passed) = 0.8''')"
   ]
  },
  {
   "cell_type": "markdown",
   "id": "bac20194",
   "metadata": {},
   "source": [
    "### Q8"
   ]
  },
  {
   "cell_type": "code",
   "execution_count": null,
   "id": "44e5a8f1",
   "metadata": {},
   "outputs": [],
   "source": [
    "# Solution for Q8\n",
    "print('Answer:', '''Favorable outcomes: (1,6), (2,5), ..., (6,1) → 6 outcomes.\n",
    "Total outcomes = 6*6 = 36 → P = 6/36 = 0.167''')"
   ]
  },
  {
   "cell_type": "markdown",
   "id": "6c940089",
   "metadata": {},
   "source": [
    "### Q9"
   ]
  },
  {
   "cell_type": "code",
   "execution_count": null,
   "id": "a3f486ad",
   "metadata": {},
   "outputs": [],
   "source": [
    "# Solution for Q9\n",
    "print('Answer:', '''P = (3 + 2) / 10 = 5/10 = 0.5''')"
   ]
  },
  {
   "cell_type": "markdown",
   "id": "f5c2eda0",
   "metadata": {},
   "source": [
    "### Q10"
   ]
  },
  {
   "cell_type": "code",
   "execution_count": null,
   "id": "171927f6",
   "metadata": {},
   "outputs": [],
   "source": [
    "# Solution for Q10\n",
    "print('Answer:', '''P = 0.3 * 0.6 = 0.18''')"
   ]
  },
  {
   "cell_type": "markdown",
   "id": "84600c7b",
   "metadata": {},
   "source": [
    "### Q11"
   ]
  },
  {
   "cell_type": "code",
   "execution_count": null,
   "id": "452bcf15",
   "metadata": {},
   "outputs": [],
   "source": [
    "# Solution for Q11\n",
    "print('Answer:', '''P(Tea or Coffee) = 0.4 + 0.5 - 0.2 = 0.7''')"
   ]
  },
  {
   "cell_type": "markdown",
   "id": "f8e2c8a7",
   "metadata": {},
   "source": [
    "### Q12"
   ]
  },
  {
   "cell_type": "code",
   "execution_count": null,
   "id": "b4f97289",
   "metadata": {},
   "outputs": [],
   "source": [
    "# Solution for Q12\n",
    "print('Answer:', '''Outcomes: HHT, HTH, THH → 3/8 = 0.375''')"
   ]
  },
  {
   "cell_type": "markdown",
   "id": "fa61fd9d",
   "metadata": {},
   "source": [
    "### Q13"
   ]
  },
  {
   "cell_type": "code",
   "execution_count": null,
   "id": "6f1427a5",
   "metadata": {},
   "outputs": [],
   "source": [
    "# Solution for Q13\n",
    "print('Answer:', '''Using Bayes:\n",
    "P(Pos | Second) = (0.6 * 0.5) / TotalSecond = 0.3 / 0.3 = 1.0''')"
   ]
  },
  {
   "cell_type": "markdown",
   "id": "4c248bd3",
   "metadata": {},
   "source": [
    "### Q14"
   ]
  },
  {
   "cell_type": "code",
   "execution_count": null,
   "id": "2d282817",
   "metadata": {},
   "outputs": [],
   "source": [
    "# Solution for Q14\n",
    "print('Answer:', '''P = 0.4 + 0.35 - 0.2 = 0.55''')"
   ]
  },
  {
   "cell_type": "markdown",
   "id": "eefa4200",
   "metadata": {},
   "source": [
    "### Q15"
   ]
  },
  {
   "cell_type": "code",
   "execution_count": null,
   "id": "9aed4cd0",
   "metadata": {},
   "outputs": [],
   "source": [
    "# Solution for Q15\n",
    "print('Answer:', '''P = 200 / 1000 = 0.2''')"
   ]
  },
  {
   "cell_type": "markdown",
   "id": "4c430c05",
   "metadata": {},
   "source": [
    "### Q16"
   ]
  },
  {
   "cell_type": "code",
   "execution_count": null,
   "id": "f9dce9fa",
   "metadata": {},
   "outputs": [],
   "source": [
    "# Solution for Q16\n",
    "print('Answer:', '''P = 0.9 * 0.6 + 0.1 * 0.4 = 0.54 + 0.04 = 0.58''')"
   ]
  },
  {
   "cell_type": "markdown",
   "id": "cdc33881",
   "metadata": {},
   "source": [
    "### Q17"
   ]
  },
  {
   "cell_type": "code",
   "execution_count": null,
   "id": "a3afb03b",
   "metadata": {},
   "outputs": [],
   "source": [
    "# Solution for Q17\n",
    "print('Answer:', '''Total = 150 + 250 + 100 = 500 → P = (150+250+100)/500 = 1.0''')"
   ]
  },
  {
   "cell_type": "markdown",
   "id": "b5ba865b",
   "metadata": {},
   "source": [
    "### Q18"
   ]
  },
  {
   "cell_type": "code",
   "execution_count": null,
   "id": "744919b8",
   "metadata": {},
   "outputs": [],
   "source": [
    "# Solution for Q18\n",
    "print('Answer:', '''P(Promotion | Exceed) = 0.5''')"
   ]
  },
  {
   "cell_type": "markdown",
   "id": "ae84a74a",
   "metadata": {},
   "source": [
    "### Q19"
   ]
  },
  {
   "cell_type": "code",
   "execution_count": null,
   "id": "724e459b",
   "metadata": {},
   "outputs": [],
   "source": [
    "# Solution for Q19\n",
    "print('Answer:', '''P = 0.25 * 0.4 = 0.1''')"
   ]
  },
  {
   "cell_type": "markdown",
   "id": "191f6eea",
   "metadata": {},
   "source": [
    "### Q20"
   ]
  },
  {
   "cell_type": "code",
   "execution_count": null,
   "id": "232e9d72",
   "metadata": {},
   "outputs": [],
   "source": [
    "# Solution for Q20\n",
    "print('Answer:', '''P = 0.6 + 0.4 - 0.25 = 0.75''')"
   ]
  },
  {
   "cell_type": "markdown",
   "id": "5452189e",
   "metadata": {},
   "source": [
    "### Q21"
   ]
  },
  {
   "cell_type": "code",
   "execution_count": null,
   "id": "ebbeb607",
   "metadata": {},
   "outputs": [],
   "source": [
    "# Solution for Q21\n",
    "print('Answer:', '''P = 0.7 * 0.5 = 0.35''')"
   ]
  },
  {
   "cell_type": "markdown",
   "id": "1927dae5",
   "metadata": {},
   "source": [
    "### Q22"
   ]
  },
  {
   "cell_type": "code",
   "execution_count": null,
   "id": "8a3f1b85",
   "metadata": {},
   "outputs": [],
   "source": [
    "# Solution for Q22\n",
    "print('Answer:', '''P = 500 / 1000 = 0.5''')"
   ]
  },
  {
   "cell_type": "markdown",
   "id": "f94c2691",
   "metadata": {},
   "source": [
    "### Q23"
   ]
  },
  {
   "cell_type": "code",
   "execution_count": null,
   "id": "a7f0832f",
   "metadata": {},
   "outputs": [],
   "source": [
    "# Solution for Q23\n",
    "print('Answer:', '''P = 0.5 + 0.3 - 0.2 = 0.6''')"
   ]
  },
  {
   "cell_type": "markdown",
   "id": "a198cf85",
   "metadata": {},
   "source": [
    "### Q24"
   ]
  },
  {
   "cell_type": "code",
   "execution_count": null,
   "id": "1588e262",
   "metadata": {},
   "outputs": [],
   "source": [
    "# Solution for Q24\n",
    "print('Answer:', '''P = 0.4 + 0.3 - 0.15 = 0.55''')"
   ]
  }
 ],
 "metadata": {},
 "nbformat": 4,
 "nbformat_minor": 5
}
