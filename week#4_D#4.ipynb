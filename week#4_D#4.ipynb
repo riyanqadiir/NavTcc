{
 "cells": [
  {
   "cell_type": "markdown",
   "metadata": {},
   "source": [
    "Supervised Machine Learning\n",
    "\n",
    "Supervised learning is a type of machine learning where the model is trained on labeled data. This means that for each training example, the input comes with a correct output.\n"
   ]
  },
  {
   "cell_type": "markdown",
   "metadata": {},
   "source": [
    "1. Types of Problems\n",
    "\n",
    "Regression\n",
    "\n",
    "Goal: Predict a continuous output.\n",
    "\n",
    "Examples:\n",
    "\n",
    "Predicting house prices based on size and location.\n",
    "\n",
    "Estimating temperature based on weather data.\n",
    "\n",
    "Algorithm examples: Linear Regression, Ridge Regression, Decision Trees for Regression.\n",
    "\n",
    "Classification\n",
    "\n",
    "Goal: Predict a discrete label or category.\n",
    "\n",
    "Examples:\n",
    "\n",
    "Identifying if an email is spam or not.\n",
    "\n",
    "Classifying types of flowers based on petal and sepal features.\n",
    "\n",
    "Algorithm examples: Logistic Regression, Support Vector Machines, k-Nearest Neighbors, Decision Trees, Random Forests"
   ]
  },
  {
   "cell_type": "markdown",
   "metadata": {},
   "source": [
    "2. Key Components of Supervised Machine Learning\n",
    "\n",
    "Labeled Data\n",
    "\n",
    "Dataset that contains both input features (X) and corresponding correct outputs (Y).\n",
    "\n",
    "Example:\n",
    "\n",
    "Input (X): [Size=1500 sq ft, Bedrooms=3]\n",
    "\n",
    "Output (Y): $300,000"
   ]
  },
  {
   "cell_type": "markdown",
   "metadata": {},
   "source": [
    "Hypothesis (Model)\n",
    "\n",
    "A function or algorithm the model uses to make predictions.\n",
    "\n",
    "Represented mathematically as:\n",
    "\n",
    "h_θ(x)=θ_0+θ_1*x_1+θ_2*x_2+…+θ_n*x_n\n",
    "​\n",
    "\n",
    "The goal is to find the best θ (theta) values that make good predictions."
   ]
  },
  {
   "cell_type": "markdown",
   "metadata": {},
   "source": [
    "Cost Function (Loss Function)\n",
    "\n",
    "Measures how far off the model’s predictions are from the actual values.\n",
    "\n",
    "For regression:\n",
    "\n",
    "𝐽(𝜃)=(1/2𝑚)∑(ℎ_𝜃(𝑥_𝑖)−(𝑦_𝑖))^2\n",
    "\n",
    "For classification: Cross-Entropy Loss is commonly used."
   ]
  },
  {
   "cell_type": "markdown",
   "metadata": {},
   "source": [
    "Optimizer\n",
    "\n",
    "The method used to minimize the cost function by adjusting the model parameters.\n",
    "\n",
    "Common optimizers:\n",
    "\n",
    "Gradient Descent\n",
    "\n",
    "Stochastic Gradient Descent (SGD)\n",
    "\n",
    "Adam Optimizer (especially in deep learning)"
   ]
  },
  {
   "cell_type": "markdown",
   "metadata": {},
   "source": [
    "Linear Regression Example"
   ]
  },
  {
   "cell_type": "code",
   "execution_count": 1,
   "metadata": {},
   "outputs": [],
   "source": [
    "import numpy as np\n",
    "import matplotlib.pyplot as plt\n",
    "from sklearn.metrics import mean_squared_error, r2_score"
   ]
  },
  {
   "cell_type": "code",
   "execution_count": 2,
   "metadata": {},
   "outputs": [],
   "source": [
    "# Given data\n",
    "X = np.array([1, 2, 3, 4, 5])  # Features\n",
    "y = np.array([2, 4, 6, 8, 10])  # True values (y = 2x)"
   ]
  },
  {
   "cell_type": "code",
   "execution_count": 3,
   "metadata": {},
   "outputs": [],
   "source": [
    "# Initialize parameters\n",
    "theta0, theta1 = 0.0, 0.0"
   ]
  },
  {
   "cell_type": "code",
   "execution_count": 4,
   "metadata": {},
   "outputs": [],
   "source": [
    "# Hyperparameters\n",
    "alpha = 0.1  # Learning rate\n",
    "iterations = 3\n",
    "m = len(X)    # Number of examples"
   ]
  },
  {
   "cell_type": "code",
   "execution_count": 5,
   "metadata": {},
   "outputs": [],
   "source": [
    "# Store cost history for plotting\n",
    "cost_history = []"
   ]
  },
  {
   "cell_type": "code",
   "execution_count": 6,
   "metadata": {},
   "outputs": [],
   "source": [
    "# Gradient Descent Implementation\n",
    "def gradient_descent(X, y, theta0, theta1, alpha, iterations):\n",
    "    for it in range(iterations):\n",
    "        # 1. Compute predictions\n",
    "        y_pred = theta0 + theta1 * X\n",
    "        \n",
    "        # 2. Compute cost (MSE)\n",
    "        cost = (1/(2*m)) * np.sum((y_pred - y)**2)\n",
    "        cost_history.append(cost)\n",
    "        \n",
    "        # 3. Compute gradients\n",
    "        grad_theta0 = (1/m) * np.sum(y_pred - y)\n",
    "        grad_theta1 = (1/m) * np.sum((y_pred - y) * X)\n",
    "        \n",
    "        # 4. Update parameters\n",
    "        theta0 = theta0 - alpha * grad_theta0\n",
    "        theta1 = theta1 - alpha * grad_theta1\n",
    "        \n",
    "        print(f\"Iteration {it+1}: theta0 = {theta0:.2f}, theta1 = {theta1:.2f}, Cost = {cost:.2f}\")\n",
    "    \n",
    "    return theta0, theta1"
   ]
  },
  {
   "cell_type": "code",
   "execution_count": 7,
   "metadata": {},
   "outputs": [
    {
     "name": "stdout",
     "output_type": "stream",
     "text": [
      "=== Gradient Descent ===\n",
      "Iteration 1: theta0 = 0.60, theta1 = 2.20, Cost = 22.00\n",
      "Iteration 2: theta0 = 0.48, theta1 = 1.80, Cost = 0.76\n",
      "Iteration 3: theta0 = 0.49, theta1 = 1.88, Cost = 0.05\n"
     ]
    }
   ],
   "source": [
    "# Run gradient descent\n",
    "print(\"=== Gradient Descent ===\")\n",
    "theta0, theta1 = gradient_descent(X, y, theta0, theta1, alpha, iterations)"
   ]
  },
  {
   "cell_type": "code",
   "execution_count": 8,
   "metadata": {},
   "outputs": [
    {
     "name": "stdout",
     "output_type": "stream",
     "text": [
      "\n",
      "Final model: y = 0.49 + 1.88x\n"
     ]
    }
   ],
   "source": [
    "# Final model\n",
    "print(f\"\\nFinal model: y = {theta0:.2f} + {theta1:.2f}x\")"
   ]
  },
  {
   "cell_type": "code",
   "execution_count": 9,
   "metadata": {},
   "outputs": [],
   "source": [
    "# Generate predictions\n",
    "y_pred = theta0 + theta1 * X"
   ]
  },
  {
   "cell_type": "code",
   "execution_count": 10,
   "metadata": {},
   "outputs": [
    {
     "name": "stdout",
     "output_type": "stream",
     "text": [
      "\n",
      "=== Evaluation Metrics ===\n",
      "MSE: 0.05\n",
      "RMSE: 0.21\n",
      "R² Score: 0.99\n"
     ]
    }
   ],
   "source": [
    "# Regression Evaluation Metrics\n",
    "print(\"\\n=== Evaluation Metrics ===\")\n",
    "print(f\"MSE: {mean_squared_error(y, y_pred):.2f}\")\n",
    "print(f\"RMSE: {np.sqrt(mean_squared_error(y, y_pred)):.2f}\")\n",
    "print(f\"R² Score: {r2_score(y, y_pred):.2f}\")"
   ]
  },
  {
   "cell_type": "code",
   "execution_count": 11,
   "metadata": {},
   "outputs": [
    {
     "data": {
      "text/plain": [
       "Text(0.5, 1.0, 'Training Curve')"
      ]
     },
     "execution_count": 11,
     "metadata": {},
     "output_type": "execute_result"
    },
    {
     "data": {
      "image/png": "[encoded data removed]",
      "text/plain": [
       "<Figure size 1200x400 with 1 Axes>"
      ]
     },
     "metadata": {},
     "output_type": "display_data"
    }
   ],
   "source": [
    "# Training Curve (Cost vs Iterations)\n",
    "plt.figure(figsize=(12, 4))\n",
    "plt.subplot(1, 2, 1)\n",
    "plt.plot(range(1, iterations+1), cost_history, 'bo-')\n",
    "plt.xlabel('Iteration')\n",
    "plt.ylabel('Cost (MSE)')\n",
    "plt.title('Training Curve')"
   ]
  },
  {
   "cell_type": "code",
   "execution_count": 12,
   "metadata": {},
   "outputs": [
    {
     "data": {
      "image/png": "[encoded data removed]",
      "text/plain": [
       "<Figure size 640x480 with 1 Axes>"
      ]
     },
     "metadata": {},
     "output_type": "display_data"
    }
   ],
   "source": [
    "# Validation Curve (True vs Predicted)\n",
    "plt.subplot(1, 2, 2)\n",
    "plt.scatter(X, y, color='blue', label='True values')\n",
    "plt.plot(X, y_pred, color='red', label='Predicted')\n",
    "plt.xlabel('x')\n",
    "plt.ylabel('y')\n",
    "plt.legend()\n",
    "plt.title('Validation: True vs Predicted')\n",
    "\n",
    "plt.tight_layout()\n",
    "plt.show()"
   ]
  }
 ],
 "metadata": {
  "kernelspec": {
   "display_name": "Python 3",
   "language": "python",
   "name": "python3"
  },
  "language_info": {
   "codemirror_mode": {
    "name": "ipython",
    "version": 3
   },
   "file_extension": ".py",
   "mimetype": "text/x-python",
   "name": "python",
   "nbconvert_exporter": "python",
   "pygments_lexer": "ipython3",
   "version": "3.11.1"
  }
 },
 "nbformat": 4,
 "nbformat_minor": 2
}
